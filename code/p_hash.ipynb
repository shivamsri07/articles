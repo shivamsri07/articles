{
  "nbformat": 4,
  "nbformat_minor": 0,
  "metadata": {
    "colab": {
      "provenance": [],
      "authorship_tag": "ABX9TyPubg24gRlzG9EFS1MBhzUF",
      "include_colab_link": true
    },
    "kernelspec": {
      "name": "python3",
      "display_name": "Python 3"
    },
    "language_info": {
      "name": "python"
    }
  },
  "cells": [
    {
      "cell_type": "markdown",
      "metadata": {
        "id": "view-in-github",
        "colab_type": "text"
      },
      "source": [
        "<a href=\"https://colab.research.google.com/github/shivamsri07/articles/blob/main/p_hash.ipynb\" target=\"_parent\"><img src=\"https://colab.research.google.com/assets/colab-badge.svg\" alt=\"Open In Colab\"/></a>"
      ]
    },
    {
      "cell_type": "code",
      "source": [
        "!pip install scipy"
      ],
      "metadata": {
        "colab": {
          "base_uri": "https://localhost:8080/"
        },
        "id": "MfBDKuy6QKzR",
        "outputId": "dc1c6df0-ac8d-4f0a-8d6e-dfa947447658"
      },
      "execution_count": 32,
      "outputs": [
        {
          "output_type": "stream",
          "name": "stdout",
          "text": [
            "Looking in indexes: https://pypi.org/simple, https://us-python.pkg.dev/colab-wheels/public/simple/\n",
            "Requirement already satisfied: scipy in /usr/local/lib/python3.7/dist-packages (1.7.3)\n",
            "Requirement already satisfied: numpy<1.23.0,>=1.16.5 in /usr/local/lib/python3.7/dist-packages (from scipy) (1.21.6)\n"
          ]
        }
      ]
    },
    {
      "cell_type": "code",
      "execution_count": 24,
      "metadata": {
        "id": "s5IhXoNcL1jl"
      },
      "outputs": [],
      "source": [
        "import glob\n",
        "import cv2\n",
        "import numpy as np\n",
        "\n",
        "image = ['/content/edited.png', '/content/original.png']"
      ]
    },
    {
      "cell_type": "code",
      "source": [
        "print(image)"
      ],
      "metadata": {
        "colab": {
          "base_uri": "https://localhost:8080/"
        },
        "id": "ShWdkq1BMKXq",
        "outputId": "8bc61cfe-5838-4f7d-cedb-224f658fa4d7"
      },
      "execution_count": 25,
      "outputs": [
        {
          "output_type": "stream",
          "name": "stdout",
          "text": [
            "['/content/edited.png', '/content/original.png']\n"
          ]
        }
      ]
    },
    {
      "cell_type": "code",
      "source": [
        "def hash_array_to_hash_hex(hash_array):\n",
        "  # convert hash array of 0 or 1 to hash string in hex\n",
        "  hash_array = np.array(hash_array, dtype = np.uint8)\n",
        "  hash_str = ''.join(str(i) for i in 1 * hash_array.flatten())\n",
        "  return (hex(int(hash_str, 2)))"
      ],
      "metadata": {
        "id": "5FzsqfR9MMOK"
      },
      "execution_count": 26,
      "outputs": []
    },
    {
      "cell_type": "code",
      "source": [
        "def hash_hex_to_hash_array(hash_hex):\n",
        "  # convert hash string in hex to hash values of 0 or 1\n",
        "  hash_str = int(hash_hex, 16)\n",
        "  array_str = bin(hash_str)[2:]\n",
        "  return np.array([i for i in array_str], dtype = np.float32)\n"
      ],
      "metadata": {
        "id": "HhF_1cBYMWMD"
      },
      "execution_count": 27,
      "outputs": []
    },
    {
      "cell_type": "code",
      "source": [
        "image_hash_dict = {}\n",
        "\n",
        "# for every image calcuate PHash value\n",
        "for name in image:\n",
        "  img = cv2.imread(name)\n",
        "  # resize image and convert to gray scale\n",
        "  img = cv2.resize(img, (64, 64))\n",
        "  img = cv2.cvtColor(img, cv2.COLOR_BGR2GRAY)\n",
        "  img = np.array(img, dtype = np.float32)\n",
        "  # calculate dct of image \n",
        "  discrete_cosine_transform = cv2.dct(img)\n",
        "  # to reduce hash length take only 8*8 top-left block \n",
        "  # as this block has more information than the rest\n",
        "  dct_block = discrete_cosine_transform[:8, : 8]\n",
        "  print(dct_block)\n",
        "  # caclulate mean of dct block excluding first term i.e, dct(0, 0)\n",
        "  dct_average = (dct_block.mean() * dct_block.size - dct_block[0, 0]) / (dct_block.size - 1)\n",
        "  # convert dct block to binary values based on dct_average\n",
        "  print(dct_average,)\n",
        "  dct_block[dct_block < dct_average] = 0.0\n",
        "  dct_block[dct_block != 0] = 1.0\n",
        "  # store hash value\n",
        "  print(dct_block, '\\n')\n",
        "  image_hash_dict[name] = hash_array_to_hash_hex(dct_block.flatten())"
      ],
      "metadata": {
        "colab": {
          "base_uri": "https://localhost:8080/"
        },
        "id": "DEHXuGo8MYU6",
        "outputId": "a722358a-1c1f-4ed1-e094-45a4b320020f"
      },
      "execution_count": 44,
      "outputs": [
        {
          "output_type": "stream",
          "name": "stdout",
          "text": [
            "[[ 4058.5938    -585.73267  -3107.709      472.493      -62.369965\n",
            "    239.6018    -218.52315    178.97751 ]\n",
            " [-2074.5068     349.7873    1130.3625    -243.15646    715.48157\n",
            "    -91.693405    25.04708   -270.88965 ]\n",
            " [ -571.2353     196.2815     335.6319    -124.529434   347.04153\n",
            "   -228.5278    -397.54498     59.019917]\n",
            " [  251.54463    -25.603592    -5.897129  -185.9877     -78.21804\n",
            "    143.77985   -287.6312     306.4981  ]\n",
            " [  339.6827    -109.78092   -208.28578    169.1611    -408.341\n",
            "    136.69104    491.82584   -226.0434  ]\n",
            " [   66.3553     -63.01365     68.441635   154.92307   -271.65195\n",
            "   -163.02634    302.49902     16.425886]\n",
            " [ -498.1264      -7.771104   321.98944     38.622704   168.67267\n",
            "    -22.38166   -116.94272    -75.36159 ]\n",
            " [ -163.07031     98.15242    138.92715   -124.6272      99.55658\n",
            "    -38.301792  -250.01192     77.59943 ]]\n",
            "-61.355868384951634\n",
            "[[1. 0. 0. 1. 0. 1. 0. 1.]\n",
            " [0. 1. 1. 0. 1. 0. 1. 0.]\n",
            " [0. 1. 1. 0. 1. 0. 0. 1.]\n",
            " [1. 1. 1. 0. 0. 1. 0. 1.]\n",
            " [1. 0. 0. 1. 0. 1. 1. 0.]\n",
            " [1. 0. 1. 1. 0. 0. 1. 1.]\n",
            " [0. 1. 1. 1. 1. 1. 0. 0.]\n",
            " [0. 1. 1. 0. 1. 1. 0. 1.]] \n",
            "\n",
            "[[ 1.43720469e+04  1.43470657e+02  2.28976685e+03 -1.27029190e+02\n",
            "  -1.49693799e+03  2.47372704e+01  6.69355164e+02  5.63741684e+01]\n",
            " [ 1.78264221e+02 -2.70461151e+02  1.00373497e+01  3.70773438e+02\n",
            "  -1.35487595e+02 -3.05458069e+02  1.41361496e+02  2.23229111e+02]\n",
            " [ 5.23792114e+02  1.52518509e+02 -7.86987244e+02 -7.55312576e+01\n",
            "   4.05524872e+02 -6.82418137e+01  1.39228027e+02  1.13239288e+02]\n",
            " [-2.55880356e+02 -5.18598824e+01  5.59570801e+02 -1.23979256e+02\n",
            "  -5.91817322e+02  2.06352020e+02  4.81105927e+02 -5.36144066e+01]\n",
            " [ 1.36266144e+02 -1.59700985e+01 -3.22413025e+02  2.53929138e+02\n",
            "   2.58963989e+02 -3.36629395e+02 -8.39051590e+01  1.51064926e+02]\n",
            " [ 5.80471802e+01 -2.96642723e+01 -6.75570536e+00 -8.83268280e+01\n",
            "   1.07296577e+02  1.20012810e+02 -2.50861298e+02  1.58539200e+01]\n",
            " [-1.81686478e+02  5.82787018e+01  1.52642670e+02 -3.05134964e+01\n",
            "  -9.40486069e+01  1.58320379e+01  4.91617012e+01 -7.26040649e+01]\n",
            " [-1.64838272e+02 -3.07389660e+01  2.50290649e+02  1.14199562e+01\n",
            "  -1.79881256e+02  9.16206932e+00  7.78299561e+01 -2.40081096e+00]]\n",
            "34.60683283730159\n",
            "[[1. 1. 1. 0. 0. 0. 1. 1.]\n",
            " [1. 0. 0. 1. 0. 0. 1. 1.]\n",
            " [1. 1. 0. 0. 1. 0. 1. 1.]\n",
            " [0. 0. 1. 0. 0. 1. 1. 0.]\n",
            " [1. 0. 0. 1. 1. 0. 0. 1.]\n",
            " [1. 0. 0. 0. 1. 1. 0. 0.]\n",
            " [0. 1. 1. 0. 0. 0. 1. 0.]\n",
            " [0. 0. 1. 0. 0. 0. 1. 0.]] \n",
            "\n"
          ]
        }
      ]
    },
    {
      "cell_type": "code",
      "source": [
        "print(image_hash_dict)"
      ],
      "metadata": {
        "colab": {
          "base_uri": "https://localhost:8080/"
        },
        "id": "9vCOy5YKMbf4",
        "outputId": "a71b8188-3296-4a6c-b004-cf85397a67b7"
      },
      "execution_count": 30,
      "outputs": [
        {
          "output_type": "stream",
          "name": "stdout",
          "text": [
            "{'/content/edited.png': '0x956a69e596b37c6d', '/content/original.png': '0xe393cb26998c6222'}\n"
          ]
        }
      ]
    },
    {
      "cell_type": "code",
      "source": [
        "from scipy import spatial\n",
        "\n",
        "for image_name in image_hash_dict.keys():\n",
        "  print(f'{image_name} :: {hash_hex_to_hash_array(image_hash_dict[image_name])}')\n",
        "  distance = spatial.distance.hamming(\n",
        "    hash_hex_to_hash_array(image_hash_dict[image_name]), \n",
        "    hash_hex_to_hash_array(image_hash_dict['/content/edited.png'])\n",
        "  )\n",
        "  print(\"{0:<10} {1}\".format(image_name, distance), '\\n')"
      ],
      "metadata": {
        "colab": {
          "base_uri": "https://localhost:8080/"
        },
        "id": "U4fNIByGP4WV",
        "outputId": "ac5140e2-8a1b-437c-e214-0368bb9bbd86"
      },
      "execution_count": 40,
      "outputs": [
        {
          "output_type": "stream",
          "name": "stdout",
          "text": [
            "/content/edited.png :: [1. 0. 0. 1. 0. 1. 0. 1. 0. 1. 1. 0. 1. 0. 1. 0. 0. 1. 1. 0. 1. 0. 0. 1.\n",
            " 1. 1. 1. 0. 0. 1. 0. 1. 1. 0. 0. 1. 0. 1. 1. 0. 1. 0. 1. 1. 0. 0. 1. 1.\n",
            " 0. 1. 1. 1. 1. 1. 0. 0. 0. 1. 1. 0. 1. 1. 0. 1.]\n",
            "/content/edited.png 0.0 \n",
            "\n",
            "/content/original.png :: [1. 1. 1. 0. 0. 0. 1. 1. 1. 0. 0. 1. 0. 0. 1. 1. 1. 1. 0. 0. 1. 0. 1. 1.\n",
            " 0. 0. 1. 0. 0. 1. 1. 0. 1. 0. 0. 1. 1. 0. 0. 1. 1. 0. 0. 0. 1. 1. 0. 0.\n",
            " 0. 1. 1. 0. 0. 0. 1. 0. 0. 0. 1. 0. 0. 0. 1. 0.]\n",
            "/content/original.png 0.578125 \n",
            "\n"
          ]
        }
      ]
    }
  ]
}